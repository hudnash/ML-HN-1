{
 "cells": [
  {
   "cell_type": "markdown",
   "id": "bb061f74-7b76-4f96-b062-e53500d6028d",
   "metadata": {},
   "source": [
    "# The Random Forest Regression with Continuous Single Output and Multiple Inputs"
   ]
  },
  {
   "cell_type": "markdown",
   "id": "5bb0877c-7a13-4e13-9130-dd564e68a1ee",
   "metadata": {},
   "source": [
    "#### By: Hudson Nash on June 31, 2022"
   ]
  },
  {
   "cell_type": "markdown",
   "id": "7581130f-41b2-4eb6-87cd-9e93d2165bf9",
   "metadata": {},
   "source": [
    "In this notebook, I'll create a random forest regression model using scikit-learn and optimize its size by using a Bayesian optimization method."
   ]
  },
  {
   "cell_type": "code",
   "execution_count": 5,
   "id": "4d998f02-06ff-4d24-895e-60e96a942e09",
   "metadata": {},
   "outputs": [],
   "source": [
    "from sklearn.ensemble import RandomForestRegressor\n",
    "from sklearn.model_selection import train_test_split\n",
    "from pandas import read_csv\n",
    "import matplotlib.pyplot as plt"
   ]
  },
  {
   "cell_type": "code",
   "execution_count": 6,
   "id": "7275be38-20da-4ee7-8f31-6b76fb4e141f",
   "metadata": {},
   "outputs": [],
   "source": [
    "size = 100 # starting with 100 trees; this is the optimized variable\n",
    "depth = 3  # how many decision nodes per tree, ~ √(# of splits across independent variables)"
   ]
  },
  {
   "cell_type": "code",
   "execution_count": 31,
   "id": "c62504bc-48b4-45b1-89e7-446c7dd60fd7",
   "metadata": {},
   "outputs": [],
   "source": [
    "dataframe = read_csv('sythetic_data.csv')\n",
    "rf = RandomForestRegressor(n_estimators=size, max_depth=depth, random_state=42)\n",
    "X_i = dataframe.iloc[:,0:4]\n",
    "Y = dataframe['Output']\n",
    "X_train, X_test, Y_train, Y_test = train_test_split(X_i.values,Y.values,shuffle=True,test_size=.300,train_size=.700)\n",
    "rf.fit(X_train,Y_train)\n",
    "Y_prime = rf.predict(X_test)\n",
    "rf.score(X_test,Y_test)"
   ]
  },
  {
   "cell_type": "code",
   "execution_count": 31,
   "id": "42c3a223-409e-46e7-9cec-abffcfc1490e",
   "metadata": {},
   "outputs": [
    {
     "data": {
      "text/plain": [
       "0.9597664157819139"
      ]
     },
     "execution_count": 31,
     "metadata": {},
     "output_type": "execute_result"
    }
   ],
   "source": [
    "# plt.figure()\n",
    "# nCr = n!/{r!*(n-r)!} = 4!/{2!*(2)!} = 6 tree maps...\n",
    "# plt.subplot(2,3,1)\n",
    "# s1=plt.scatter(\n",
    "#     X_test[:,0],\n",
    "#     X_test[:,1],\n",
    "#     c=Y_test,\n",
    "#     s=50,\n",
    "#     cmap='plasma'\n",
    "# )\n",
    "# heat.colorbar(s1,ax=ax)\n",
    "# plt.subplot(2,3,2)\n",
    "# plt.scatter(\n",
    "#     X_test[:,0],\n",
    "#     X_test[:,2],\n",
    "#     c=Y_test\n",
    "#     s=50,\n",
    "#     cmap='plasma'\n",
    "# )\n",
    "# plt.subplot(2,3,3)\n",
    "# plt.scatter(\n",
    "#     X_test[:,0],\n",
    "#     X_test[:,3],\n",
    "#     c=Y_test\n",
    "#     s=50,\n",
    "#     cmap='plasma'\n",
    "# )\n",
    "# plt.subplot(2,3,4)\n",
    "# plt.scatter(\n",
    "#     X_test[:,1],\n",
    "#     X_test[:,2],\n",
    "#     c=Y_test\n",
    "#     s=50,\n",
    "#     cmap='plasma'\n",
    "# )\n",
    "# plt.subplot(2,3,5)\n",
    "# plt.scatter(\n",
    "#     X_test[:,1],\n",
    "#     X_test[:,3],\n",
    "#     c=Y_test\n",
    "#     s=50,\n",
    "#     cmap='plasma'\n",
    "# )\n",
    "# plt.subplot(2,3,6)\n",
    "# plt.scatter(\n",
    "#     X_test[:,2],\n",
    "#     X_test[:,3],\n",
    "#     c=Y_test\n",
    "#     s=50,\n",
    "#     cmap='plasma'\n",
    "# )\n",
    "# plt.subplot(2,3,7)\n",
    "# plt.colorbar(s1)"
   ]
  },
  {
   "cell_type": "code",
   "execution_count": 32,
   "id": "68f2b539-fbcc-4c21-b52b-e8bf16a66552",
   "metadata": {},
   "outputs": [],
   "source": [
    "import sklearn.gaussian_process as gp\n",
    "\n",
    "# Define the GP\n",
    "kernel = gp.kernels.Matern()\n",
    "model = gp.GaussianProcessRegressor(kernel=kernel,\n",
    "                                      alpha=1e-4,\n",
    "                                      n_restarts_optimizer=10,\n",
    "                                      normalize_y=True)\n",
    "for i in range(n_iters):\n",
    "# Update our belief of the loss function\n",
    "model.fit(xp, yp)\n",
    "\n",
    "# sample_next_hyperparameter is a method that computes the arg\n",
    "# max of the acquisition function\n",
    "next_sample = sample_next_hyperparameter(model, yp)\n",
    "\n",
    "# Evaluate the loss for the new hyperparameters\n",
    "next_loss = sample_loss(next_sample)\n",
    "\n",
    "# Update xp and yp"
   ]
  },
  {
   "cell_type": "code",
   "execution_count": null,
   "id": "1930a182-e780-4c84-9aef-28daaa922477",
   "metadata": {},
   "outputs": [],
   "source": []
  }
 ],
 "metadata": {
  "kernelspec": {
   "display_name": "Python 3 (ipykernel)",
   "language": "python",
   "name": "python3"
  },
  "language_info": {
   "codemirror_mode": {
    "name": "ipython",
    "version": 3
   },
   "file_extension": ".py",
   "mimetype": "text/x-python",
   "name": "python",
   "nbconvert_exporter": "python",
   "pygments_lexer": "ipython3",
   "version": "3.9.7"
  }
 },
 "nbformat": 4,
 "nbformat_minor": 5
}
