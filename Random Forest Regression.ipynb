{
 "cells": [
  {
   "cell_type": "code",
   "execution_count": null,
   "id": "d7b358e1",
   "metadata": {},
   "outputs": [],
   "source": [
    "# RANDOM FOREST REGRESSION (.ipynb)\n",
    "# By: J. Hudson Nash\n",
    "# Date: June 29, 2022\n",
    "# Objectives: - Determine the random forest algorithm that best models the data\n",
    "#             - Determine the RMSE and R^2\n",
    "#             - Using an optimization algorithm based on Bayes' theorem determine the # of trees that minimizes RMSE"
   ]
  },
  {
   "cell_type": "code",
   "execution_count": null,
   "id": "3986f7e7",
   "metadata": {},
   "outputs": [],
   "source": [
    "# REFERENCES:\n",
    "# \"Random Forest Algorithm Clearly Explained!\" by Normalized Nerd (https://youtu.be/v6VJ2RO66Ag)"
   ]
  },
  {
   "cell_type": "code",
   "execution_count": 3,
   "id": "639e9641",
   "metadata": {},
   "outputs": [
    {
     "name": "stdout",
     "output_type": "stream",
     "text": [
      "a\n"
     ]
    }
   ],
   "source": [
    "import pandas as pd\n",
    "import os\n",
    "from sklearn.ensemble import RandomForestClassifier\n",
    "from sklearn import tree"
   ]
  },
  {
   "cell_type": "code",
   "execution_count": null,
   "id": "19873fbc",
   "metadata": {},
   "outputs": [],
   "source": [
    "# [1] Random Forest:\n",
    "#     |— Discretize the y-variable\n",
    "#     |— \"Bootstrapping\": \n",
    "#         |— Come up with N_trees decision Tree objects of randomly assigned id's, each of length Height_tree\n",
    "#         |— Assign to each Tree object a set of N_observations^(1/2) independent (x_i) variables\n",
    "#         |— For each observation in each Tree object, 'cut down the tree' — deconstruct the decision making process\n",
    "#     |— \"Bagging\":\n",
    "#         |— Each observation in the original data set is compared to a value of y_predicted\n",
    "#         |— [y_predicted_range] is the result of taking the average of the lower and upper bound of each discrete bin\n",
    "#         |— y_predicted is the midpoint of this range\n",
    "#            |— The precision of these models may depend on the normality of the original data set — do normal curve"
   ]
  },
  {
   "cell_type": "code",
   "execution_count": 18,
   "id": "b2ff4896",
   "metadata": {},
   "outputs": [
    {
     "ename": "TypeError",
     "evalue": "read_csv() got multiple values for argument 'sep'",
     "output_type": "error",
     "traceback": [
      "\u001b[0;31m---------------------------------------------------------------------------\u001b[0m",
      "\u001b[0;31mTypeError\u001b[0m                                 Traceback (most recent call last)",
      "\u001b[0;32m/var/folders/78/kn36tmx96wqdrmwtp93_zxg40000gn/T/ipykernel_13770/2183285467.py\u001b[0m in \u001b[0;36m<module>\u001b[0;34m\u001b[0m\n\u001b[0;32m----> 1\u001b[0;31m \u001b[0mdata\u001b[0m \u001b[0;34m=\u001b[0m \u001b[0mpd\u001b[0m\u001b[0;34m.\u001b[0m\u001b[0mread_csv\u001b[0m\u001b[0;34m(\u001b[0m\u001b[0mos\u001b[0m\u001b[0;34m.\u001b[0m\u001b[0mpath\u001b[0m\u001b[0;34m.\u001b[0m\u001b[0mjoin\u001b[0m\u001b[0;34m(\u001b[0m\u001b[0mos\u001b[0m\u001b[0;34m.\u001b[0m\u001b[0mpath\u001b[0m\u001b[0;34m.\u001b[0m\u001b[0mdirname\u001b[0m\u001b[0;34m(\u001b[0m\u001b[0;34m''\u001b[0m\u001b[0;34m)\u001b[0m\u001b[0;34m)\u001b[0m\u001b[0;34m,\u001b[0m\u001b[0;34m'sythetic_data.csv'\u001b[0m\u001b[0;34m,\u001b[0m\u001b[0msep\u001b[0m\u001b[0;34m=\u001b[0m\u001b[0;34m','\u001b[0m\u001b[0;34m,\u001b[0m\u001b[0mdelimiter\u001b[0m\u001b[0;34m=\u001b[0m\u001b[0;32mNone\u001b[0m\u001b[0;34m,\u001b[0m\u001b[0musecols\u001b[0m\u001b[0;34m=\u001b[0m\u001b[0;32mTrue\u001b[0m\u001b[0;34m,\u001b[0m\u001b[0mindex_col\u001b[0m\u001b[0;34m=\u001b[0m\u001b[0;36m0\u001b[0m\u001b[0;34m)\u001b[0m\u001b[0;34m\u001b[0m\u001b[0;34m\u001b[0m\u001b[0m\n\u001b[0m\u001b[1;32m      2\u001b[0m \u001b[0mprint\u001b[0m\u001b[0;34m(\u001b[0m\u001b[0mdata\u001b[0m\u001b[0;34m)\u001b[0m\u001b[0;34m\u001b[0m\u001b[0;34m\u001b[0m\u001b[0m\n",
      "\u001b[0;32m~/opt/anaconda3/lib/python3.9/site-packages/pandas/util/_decorators.py\u001b[0m in \u001b[0;36mwrapper\u001b[0;34m(*args, **kwargs)\u001b[0m\n\u001b[1;32m    309\u001b[0m                     \u001b[0mstacklevel\u001b[0m\u001b[0;34m=\u001b[0m\u001b[0mstacklevel\u001b[0m\u001b[0;34m,\u001b[0m\u001b[0;34m\u001b[0m\u001b[0;34m\u001b[0m\u001b[0m\n\u001b[1;32m    310\u001b[0m                 )\n\u001b[0;32m--> 311\u001b[0;31m             \u001b[0;32mreturn\u001b[0m \u001b[0mfunc\u001b[0m\u001b[0;34m(\u001b[0m\u001b[0;34m*\u001b[0m\u001b[0margs\u001b[0m\u001b[0;34m,\u001b[0m \u001b[0;34m**\u001b[0m\u001b[0mkwargs\u001b[0m\u001b[0;34m)\u001b[0m\u001b[0;34m\u001b[0m\u001b[0;34m\u001b[0m\u001b[0m\n\u001b[0m\u001b[1;32m    312\u001b[0m \u001b[0;34m\u001b[0m\u001b[0m\n\u001b[1;32m    313\u001b[0m         \u001b[0;32mreturn\u001b[0m \u001b[0mwrapper\u001b[0m\u001b[0;34m\u001b[0m\u001b[0;34m\u001b[0m\u001b[0m\n",
      "\u001b[0;31mTypeError\u001b[0m: read_csv() got multiple values for argument 'sep'"
     ]
    }
   ],
   "source": [
    "data = pd.read_csv(os.path.join(os.path.dirname('')),'sythetic_data.csv',sep=',',delimiter=None,usecols=True,index_col=0)\n",
    "print(data)"
   ]
  },
  {
   "cell_type": "code",
   "execution_count": 95,
   "id": "423aea76",
   "metadata": {},
   "outputs": [
    {
     "name": "stdout",
     "output_type": "stream",
     "text": [
      "    Input1  input2  input3  input4       Output\n",
      "0     0.20     3.0    40.0    10.0   632.805926\n",
      "1     0.30     5.0    40.0    20.0   195.651806\n",
      "2     0.10     4.0    60.0    12.5  1391.383891\n",
      "3     0.30     5.0    60.0    12.5  1299.910278\n",
      "4     0.15     6.0    30.0    15.0   147.802059\n",
      "5     0.15     6.0    60.0    15.0   983.231923\n",
      "6     0.15     5.0    60.0    12.5  1367.266439\n",
      "7     0.30     3.0    60.0    10.0  1890.828475\n",
      "8     0.25     3.0    40.0    17.5   242.638208\n",
      "9     0.25     3.0    30.0    15.0   146.395699\n",
      "10    0.20     5.0    50.0    12.5   802.087699\n",
      "11    0.30     4.0    30.0    17.5   115.961312\n",
      "12    0.15     6.0    60.0    20.0   588.272359\n",
      "13    0.20     4.0    40.0    15.0   314.888112\n",
      "14    0.15     7.0    50.0    10.0  1212.944983\n",
      "15    0.10     3.0    60.0    17.5   751.860069\n",
      "16    0.20     5.0    50.0    15.0   582.122894\n",
      "17    0.15     3.0    60.0    10.0  2041.811376\n",
      "18    0.20     4.0    40.0    12.5   429.859924\n",
      "19    0.30     7.0    60.0    12.5  1299.906850\n",
      "20    0.30     4.0    50.0    17.5   439.420058\n",
      "21    0.20     7.0    40.0    10.0   632.798307\n",
      "22    0.15     7.0    40.0    10.0   643.927871\n",
      "23    0.25     6.0    20.0    15.0    55.040942\n",
      "24    0.10     7.0    60.0    20.0   592.122562\n",
      "25    0.25     4.0    20.0    17.5    45.965311\n",
      "26    0.30     3.0    30.0    10.0   278.026422\n",
      "27    0.15     3.0    20.0    17.5    46.029038\n",
      "28    0.15     6.0    30.0    17.5   117.041565\n",
      "29    0.15     7.0    30.0    20.0    96.903359\n",
      "30    0.10     3.0    50.0    12.5   825.300465\n",
      "31    0.20     7.0    20.0    20.0    40.007694\n",
      "32    0.20     4.0    60.0    20.0   584.481845\n",
      "33    0.20     3.0    40.0    17.5   243.872840\n",
      "34    0.15     4.0    40.0    15.0   317.213777\n",
      "35    0.10     7.0    50.0    10.0  1240.579048\n",
      "36    0.15     3.0    60.0    15.0   983.236923\n",
      "37    0.30     4.0    30.0    10.0   278.021422\n",
      "38    0.10     7.0    20.0    17.5    46.055817\n",
      "39    0.20     6.0    50.0    20.0   355.084715\n",
      "40    0.15     7.0    60.0    20.0   588.271645\n",
      "41    0.25     3.0    20.0    20.0    40.019753\n",
      "42    0.25     5.0    40.0    20.0   196.357561\n",
      "43    0.20     6.0    20.0    10.0    97.129744\n",
      "44    0.20     4.0    40.0    17.5   243.869507\n",
      "45    0.10     6.0    40.0    10.0   655.487949\n",
      "46    0.25     3.0    60.0    12.5  1321.580535\n",
      "47    0.10     4.0    40.0    20.0   198.520842\n",
      "48    0.25     6.0    40.0    15.0   312.598759\n",
      "49    0.15     7.0    60.0    15.0   983.231209\n"
     ]
    }
   ],
   "source": [
    "with open('sythetic_data.csv','r') as f:\n",
    "    data = f.readlines()\n",
    "data = [row.replace('\\n','').split(',') for row in data]\n",
    "data = pd.DataFrame([[float(x) for x in y] for y in data[1:]],columns=data[0])\n",
    "print(data)"
   ]
  },
  {
   "cell_type": "code",
   "execution_count": 106,
   "id": "7cb32508",
   "metadata": {},
   "outputs": [
    {
     "name": "stdout",
     "output_type": "stream",
     "text": [
      "254095.42936308112\n"
     ]
    }
   ],
   "source": [
    "tot = 0\n",
    "n = 0\n",
    "for y in data['Output']:\n",
    "    n = n + 1\n",
    "    tot = tot + (y-data['Output'].mean())**2\n",
    "var = tot / (n - 1)\n",
    "std = var**(1/2)\n",
    "discretized_y = []\n",
    "for y in data['Output']:\n",
    "    discretized_y.append(y/std)"
   ]
  },
  {
   "cell_type": "code",
   "execution_count": 96,
   "id": "70aab4a2",
   "metadata": {},
   "outputs": [
    {
     "name": "stdout",
     "output_type": "stream",
     "text": [
      "[[ 0.2   3.   40.   10.  ]\n",
      " [ 0.3   5.   40.   20.  ]\n",
      " [ 0.1   4.   60.   12.5 ]\n",
      " [ 0.3   5.   60.   12.5 ]\n",
      " [ 0.15  6.   30.   15.  ]\n",
      " [ 0.15  6.   60.   15.  ]\n",
      " [ 0.15  5.   60.   12.5 ]\n",
      " [ 0.3   3.   60.   10.  ]\n",
      " [ 0.25  3.   40.   17.5 ]\n",
      " [ 0.25  3.   30.   15.  ]\n",
      " [ 0.2   5.   50.   12.5 ]\n",
      " [ 0.3   4.   30.   17.5 ]\n",
      " [ 0.15  6.   60.   20.  ]\n",
      " [ 0.2   4.   40.   15.  ]\n",
      " [ 0.15  7.   50.   10.  ]\n",
      " [ 0.1   3.   60.   17.5 ]\n",
      " [ 0.2   5.   50.   15.  ]\n",
      " [ 0.15  3.   60.   10.  ]\n",
      " [ 0.2   4.   40.   12.5 ]\n",
      " [ 0.3   7.   60.   12.5 ]\n",
      " [ 0.3   4.   50.   17.5 ]\n",
      " [ 0.2   7.   40.   10.  ]\n",
      " [ 0.15  7.   40.   10.  ]\n",
      " [ 0.25  6.   20.   15.  ]\n",
      " [ 0.1   7.   60.   20.  ]\n",
      " [ 0.25  4.   20.   17.5 ]\n",
      " [ 0.3   3.   30.   10.  ]\n",
      " [ 0.15  3.   20.   17.5 ]\n",
      " [ 0.15  6.   30.   17.5 ]\n",
      " [ 0.15  7.   30.   20.  ]\n",
      " [ 0.1   3.   50.   12.5 ]\n",
      " [ 0.2   7.   20.   20.  ]\n",
      " [ 0.2   4.   60.   20.  ]\n",
      " [ 0.2   3.   40.   17.5 ]\n",
      " [ 0.15  4.   40.   15.  ]\n",
      " [ 0.1   7.   50.   10.  ]\n",
      " [ 0.15  3.   60.   15.  ]\n",
      " [ 0.3   4.   30.   10.  ]\n",
      " [ 0.1   7.   20.   17.5 ]\n",
      " [ 0.2   6.   50.   20.  ]\n",
      " [ 0.15  7.   60.   20.  ]\n",
      " [ 0.25  3.   20.   20.  ]\n",
      " [ 0.25  5.   40.   20.  ]\n",
      " [ 0.2   6.   20.   10.  ]\n",
      " [ 0.2   4.   40.   17.5 ]\n",
      " [ 0.1   6.   40.   10.  ]\n",
      " [ 0.25  3.   60.   12.5 ]\n",
      " [ 0.1   4.   40.   20.  ]\n",
      " [ 0.25  6.   40.   15.  ]\n",
      " [ 0.15  7.   60.   15.  ]]\n"
     ]
    },
    {
     "ename": "ValueError",
     "evalue": "Unknown label type: 'continuous'",
     "output_type": "error",
     "traceback": [
      "\u001b[0;31m---------------------------------------------------------------------------\u001b[0m",
      "\u001b[0;31mValueError\u001b[0m                                Traceback (most recent call last)",
      "\u001b[0;32m/var/folders/78/kn36tmx96wqdrmwtp93_zxg40000gn/T/ipykernel_13770/3310368344.py\u001b[0m in \u001b[0;36m<module>\u001b[0;34m\u001b[0m\n\u001b[1;32m      2\u001b[0m \u001b[0mprint\u001b[0m\u001b[0;34m(\u001b[0m\u001b[0mdata\u001b[0m\u001b[0;34m.\u001b[0m\u001b[0miloc\u001b[0m\u001b[0;34m[\u001b[0m\u001b[0;34m:\u001b[0m\u001b[0;34m,\u001b[0m\u001b[0;36m0\u001b[0m\u001b[0;34m:\u001b[0m\u001b[0;36m4\u001b[0m\u001b[0;34m]\u001b[0m\u001b[0;34m.\u001b[0m\u001b[0mvalues\u001b[0m\u001b[0;34m)\u001b[0m\u001b[0;34m\u001b[0m\u001b[0;34m\u001b[0m\u001b[0m\n\u001b[1;32m      3\u001b[0m \u001b[0mclf\u001b[0m \u001b[0;34m=\u001b[0m \u001b[0mRandomForestClassifier\u001b[0m\u001b[0;34m(\u001b[0m\u001b[0mn_estimators\u001b[0m\u001b[0;34m=\u001b[0m\u001b[0;36m10\u001b[0m\u001b[0;34m)\u001b[0m\u001b[0;34m\u001b[0m\u001b[0;34m\u001b[0m\u001b[0m\n\u001b[0;32m----> 4\u001b[0;31m \u001b[0mclf\u001b[0m \u001b[0;34m=\u001b[0m \u001b[0mclf\u001b[0m\u001b[0;34m.\u001b[0m\u001b[0mfit\u001b[0m\u001b[0;34m(\u001b[0m\u001b[0mdata\u001b[0m\u001b[0;34m.\u001b[0m\u001b[0miloc\u001b[0m\u001b[0;34m[\u001b[0m\u001b[0;34m:\u001b[0m\u001b[0;34m,\u001b[0m\u001b[0;36m0\u001b[0m\u001b[0;34m:\u001b[0m\u001b[0;36m4\u001b[0m\u001b[0;34m]\u001b[0m\u001b[0;34m[\u001b[0m\u001b[0;36m0\u001b[0m\u001b[0;34m:\u001b[0m\u001b[0;36m25\u001b[0m\u001b[0;34m]\u001b[0m\u001b[0;34m.\u001b[0m\u001b[0mvalues\u001b[0m\u001b[0;34m,\u001b[0m \u001b[0;34m[\u001b[0m\u001b[0mi\u001b[0m\u001b[0;34m[\u001b[0m\u001b[0;36m0\u001b[0m\u001b[0;34m]\u001b[0m \u001b[0;32mfor\u001b[0m \u001b[0mi\u001b[0m \u001b[0;32min\u001b[0m \u001b[0mdata\u001b[0m\u001b[0;34m.\u001b[0m\u001b[0miloc\u001b[0m\u001b[0;34m[\u001b[0m\u001b[0;34m:\u001b[0m\u001b[0;34m,\u001b[0m\u001b[0;36m4\u001b[0m\u001b[0;34m:\u001b[0m\u001b[0;36m5\u001b[0m\u001b[0;34m]\u001b[0m\u001b[0;34m[\u001b[0m\u001b[0;36m0\u001b[0m\u001b[0;34m:\u001b[0m\u001b[0;36m25\u001b[0m\u001b[0;34m]\u001b[0m\u001b[0;34m.\u001b[0m\u001b[0mvalues\u001b[0m\u001b[0;34m]\u001b[0m\u001b[0;34m)\u001b[0m\u001b[0;34m\u001b[0m\u001b[0;34m\u001b[0m\u001b[0m\n\u001b[0m\u001b[1;32m      5\u001b[0m \u001b[0mclf\u001b[0m\u001b[0;34m.\u001b[0m\u001b[0mscore\u001b[0m\u001b[0;34m(\u001b[0m\u001b[0mdata\u001b[0m\u001b[0;34m.\u001b[0m\u001b[0miloc\u001b[0m\u001b[0;34m[\u001b[0m\u001b[0;34m:\u001b[0m\u001b[0;34m,\u001b[0m\u001b[0;36m0\u001b[0m\u001b[0;34m:\u001b[0m\u001b[0;36m4\u001b[0m\u001b[0;34m]\u001b[0m\u001b[0;34m[\u001b[0m\u001b[0;36m25\u001b[0m\u001b[0;34m:\u001b[0m\u001b[0;34m]\u001b[0m\u001b[0;34m.\u001b[0m\u001b[0mvalues\u001b[0m\u001b[0;34m,\u001b[0m \u001b[0;34m[\u001b[0m\u001b[0mi\u001b[0m\u001b[0;34m[\u001b[0m\u001b[0;36m0\u001b[0m\u001b[0;34m]\u001b[0m \u001b[0;32mfor\u001b[0m \u001b[0mi\u001b[0m \u001b[0;32min\u001b[0m \u001b[0mdata\u001b[0m\u001b[0;34m.\u001b[0m\u001b[0miloc\u001b[0m\u001b[0;34m[\u001b[0m\u001b[0;34m:\u001b[0m\u001b[0;34m,\u001b[0m\u001b[0;36m4\u001b[0m\u001b[0;34m:\u001b[0m\u001b[0;36m5\u001b[0m\u001b[0;34m]\u001b[0m\u001b[0;34m[\u001b[0m\u001b[0;36m25\u001b[0m\u001b[0;34m:\u001b[0m\u001b[0;34m]\u001b[0m\u001b[0;34m.\u001b[0m\u001b[0mvalues\u001b[0m\u001b[0;34m]\u001b[0m\u001b[0;34m)\u001b[0m\u001b[0;34m\u001b[0m\u001b[0;34m\u001b[0m\u001b[0m\n",
      "\u001b[0;32m~/opt/anaconda3/lib/python3.9/site-packages/sklearn/ensemble/_forest.py\u001b[0m in \u001b[0;36mfit\u001b[0;34m(self, X, y, sample_weight)\u001b[0m\n\u001b[1;32m    329\u001b[0m         \u001b[0mself\u001b[0m\u001b[0;34m.\u001b[0m\u001b[0mn_outputs_\u001b[0m \u001b[0;34m=\u001b[0m \u001b[0my\u001b[0m\u001b[0;34m.\u001b[0m\u001b[0mshape\u001b[0m\u001b[0;34m[\u001b[0m\u001b[0;36m1\u001b[0m\u001b[0;34m]\u001b[0m\u001b[0;34m\u001b[0m\u001b[0;34m\u001b[0m\u001b[0m\n\u001b[1;32m    330\u001b[0m \u001b[0;34m\u001b[0m\u001b[0m\n\u001b[0;32m--> 331\u001b[0;31m         \u001b[0my\u001b[0m\u001b[0;34m,\u001b[0m \u001b[0mexpanded_class_weight\u001b[0m \u001b[0;34m=\u001b[0m \u001b[0mself\u001b[0m\u001b[0;34m.\u001b[0m\u001b[0m_validate_y_class_weight\u001b[0m\u001b[0;34m(\u001b[0m\u001b[0my\u001b[0m\u001b[0;34m)\u001b[0m\u001b[0;34m\u001b[0m\u001b[0;34m\u001b[0m\u001b[0m\n\u001b[0m\u001b[1;32m    332\u001b[0m \u001b[0;34m\u001b[0m\u001b[0m\n\u001b[1;32m    333\u001b[0m         \u001b[0;32mif\u001b[0m \u001b[0mgetattr\u001b[0m\u001b[0;34m(\u001b[0m\u001b[0my\u001b[0m\u001b[0;34m,\u001b[0m \u001b[0;34m\"dtype\"\u001b[0m\u001b[0;34m,\u001b[0m \u001b[0;32mNone\u001b[0m\u001b[0;34m)\u001b[0m \u001b[0;34m!=\u001b[0m \u001b[0mDOUBLE\u001b[0m \u001b[0;32mor\u001b[0m \u001b[0;32mnot\u001b[0m \u001b[0my\u001b[0m\u001b[0;34m.\u001b[0m\u001b[0mflags\u001b[0m\u001b[0;34m.\u001b[0m\u001b[0mcontiguous\u001b[0m\u001b[0;34m:\u001b[0m\u001b[0;34m\u001b[0m\u001b[0;34m\u001b[0m\u001b[0m\n",
      "\u001b[0;32m~/opt/anaconda3/lib/python3.9/site-packages/sklearn/ensemble/_forest.py\u001b[0m in \u001b[0;36m_validate_y_class_weight\u001b[0;34m(self, y)\u001b[0m\n\u001b[1;32m    557\u001b[0m \u001b[0;34m\u001b[0m\u001b[0m\n\u001b[1;32m    558\u001b[0m     \u001b[0;32mdef\u001b[0m \u001b[0m_validate_y_class_weight\u001b[0m\u001b[0;34m(\u001b[0m\u001b[0mself\u001b[0m\u001b[0;34m,\u001b[0m \u001b[0my\u001b[0m\u001b[0;34m)\u001b[0m\u001b[0;34m:\u001b[0m\u001b[0;34m\u001b[0m\u001b[0;34m\u001b[0m\u001b[0m\n\u001b[0;32m--> 559\u001b[0;31m         \u001b[0mcheck_classification_targets\u001b[0m\u001b[0;34m(\u001b[0m\u001b[0my\u001b[0m\u001b[0;34m)\u001b[0m\u001b[0;34m\u001b[0m\u001b[0;34m\u001b[0m\u001b[0m\n\u001b[0m\u001b[1;32m    560\u001b[0m \u001b[0;34m\u001b[0m\u001b[0m\n\u001b[1;32m    561\u001b[0m         \u001b[0my\u001b[0m \u001b[0;34m=\u001b[0m \u001b[0mnp\u001b[0m\u001b[0;34m.\u001b[0m\u001b[0mcopy\u001b[0m\u001b[0;34m(\u001b[0m\u001b[0my\u001b[0m\u001b[0;34m)\u001b[0m\u001b[0;34m\u001b[0m\u001b[0;34m\u001b[0m\u001b[0m\n",
      "\u001b[0;32m~/opt/anaconda3/lib/python3.9/site-packages/sklearn/utils/multiclass.py\u001b[0m in \u001b[0;36mcheck_classification_targets\u001b[0;34m(y)\u001b[0m\n\u001b[1;32m    181\u001b[0m     if y_type not in ['binary', 'multiclass', 'multiclass-multioutput',\n\u001b[1;32m    182\u001b[0m                       'multilabel-indicator', 'multilabel-sequences']:\n\u001b[0;32m--> 183\u001b[0;31m         \u001b[0;32mraise\u001b[0m \u001b[0mValueError\u001b[0m\u001b[0;34m(\u001b[0m\u001b[0;34m\"Unknown label type: %r\"\u001b[0m \u001b[0;34m%\u001b[0m \u001b[0my_type\u001b[0m\u001b[0;34m)\u001b[0m\u001b[0;34m\u001b[0m\u001b[0;34m\u001b[0m\u001b[0m\n\u001b[0m\u001b[1;32m    184\u001b[0m \u001b[0;34m\u001b[0m\u001b[0m\n\u001b[1;32m    185\u001b[0m \u001b[0;34m\u001b[0m\u001b[0m\n",
      "\u001b[0;31mValueError\u001b[0m: Unknown label type: 'continuous'"
     ]
    }
   ],
   "source": [
    "# [1.1] USING SCIKIT\n",
    "print(data.iloc[:,0:4].values)\n",
    "clf = RandomForestClassifier(n_estimators=10)\n",
    "clf = clf.fit(data.iloc[:,0:4][0:25].values, [i[0] for i in data.iloc[:,4:5][0:25].values])\n",
    "clf.score(data.iloc[:,0:4][25:].values, [i[0] for i in data.iloc[:,4:5][25:].values])"
   ]
  },
  {
   "cell_type": "code",
   "execution_count": 68,
   "id": "e7040444",
   "metadata": {},
   "outputs": [],
   "source": [
    "# [2] RMSE (Root Mean Squared Error):\n",
    "#     |— Simply compute the root of the mean of the square, (y-y_predicted)^2, down the entire original data set against our predictions"
   ]
  },
  {
   "cell_type": "code",
   "execution_count": null,
   "id": "cfd9415a",
   "metadata": {},
   "outputs": [],
   "source": [
    "# [3] R^2:\n",
    "#     |— I'll apply this formula to calculate R^2: R^2 = 1 - ⅀(y-y_predicted)^2/⅀(y-y_mean)^2"
   ]
  },
  {
   "cell_type": "code",
   "execution_count": null,
   "id": "8d60265e",
   "metadata": {},
   "outputs": [],
   "source": [
    "# [4] Bayesian Optimization Method:\n",
    "\n",
    "#     APPROACH #1: Probability of improvement upon movement in direction — will struggle to locate global minimum\n",
    "#     |— GIVEN THAT the previous N_trees' was a positive increase from the starting N_trees and achieved lesser RMSE, we elect to further increase N_trees by some interval\n",
    "#     |— 2 basic events possible: (a) Better or (b) Worse\n",
    "#     |— We kind of approximate the PDF of P(Improvement | RMSE_prev, direction_prev)\n",
    "#        |— RMSE_prev is calculated, where P is probability of improvement, as: (P_prev * step_size - change_in_RMSE)\n",
    "\n",
    "#     APPROACH #2: Begin with limit of RMSE = f(N_trees) as N_trees approaches ∞, then take 2nd derivative transformation of RMSE = f(N_trees)\n",
    "#                  such that the LOCATION (not direction) of the global minimum is most likely to exist near inflection points — a.k.a. points\n",
    "#                  where the probability of finding a minimum is maximized because it is conditional upon the RMSE at immediately neighboring intervals\n",
    "#     |— Set arbitrary step_size and limit_tolerance\n",
    "#     |— Evaluate the RMSE = f(N_trees) function to its limit of ∞\n",
    "#     |— Second derivative transform (almost like a Newton-Raphson rootfinding algorithm) and interpolate for all possible x-intercepts\n",
    "#     |— Test all x-intercepts\n",
    "#     |— Re-evaluate the derivative transform (and thereby conditional probabilities implied along function)\n",
    "#     |— Run this in a loop, reducing step_size by some amount step_reduction until the likely global minima have been determined to significant_digits\n",
    "#     |— Re-generate the prediction algorithm the number of times dictated by the 95% CI at n sample size of potential global minima\n",
    "#     |— Assuming normality once again, conduct a multiple t-test with a Holm-Bonferroni correction for multiple side-by-side comparisons with the alternative hypothesis being, for each point tested, that the point is the global minimum.\n",
    "#     |— Rank and list the potential global minima by p-score, then return this list to the console"
   ]
  }
 ],
 "metadata": {
  "kernelspec": {
   "display_name": "Python 3 (ipykernel)",
   "language": "python",
   "name": "python3"
  },
  "language_info": {
   "codemirror_mode": {
    "name": "ipython",
    "version": 3
   },
   "file_extension": ".py",
   "mimetype": "text/x-python",
   "name": "python",
   "nbconvert_exporter": "python",
   "pygments_lexer": "ipython3",
   "version": "3.9.7"
  }
 },
 "nbformat": 4,
 "nbformat_minor": 5
}
